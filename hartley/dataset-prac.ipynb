{
 "cells": [
  {
   "cell_type": "code",
   "execution_count": 2,
   "metadata": {},
   "outputs": [
    {
     "name": "stdout",
     "output_type": "stream",
     "text": [
      "Running on Computer: [PFC]\n",
      "Data directory: /home/elott1/data/packaged/\n",
      "Working directory: /home/elott1/code/NTdatasets/hartley/\n"
     ]
    }
   ],
   "source": [
    "import sys\n",
    "import os\n",
    "\n",
    "from copy import deepcopy\n",
    "import h5py\n",
    "\n",
    "import numpy as np\n",
    "import scipy.io as sio\n",
    "\n",
    "myhost = os.uname()[1]\n",
    "sys.path.insert(0, '/home/elott1/code/')\n",
    "data_dir = \"/home/elott1/data/packaged/\"\n",
    "work_dir = '/home/elott1/code/NTdatasets/hartley/'\n",
    "\n",
    "print(f'Running on Computer: [{myhost}]')\n",
    "print(f'Data directory: {data_dir}')\n",
    "print(f'Working directory: {work_dir}')\n"
   ]
  },
  {
   "cell_type": "code",
   "execution_count": 3,
   "metadata": {},
   "outputs": [
    {
     "name": "stdout",
     "output_type": "stream",
     "text": [
      "Invoking __init__.py for NDNT.utils\n"
     ]
    }
   ],
   "source": [
    "# NDN tools\\n\",\n",
    "import NDNT.utils as utils          # some other utilities\\n\",\n",
    "from NDNT.utils import imagesc      # because I'm lazy\\n\",\n",
    "from NDNT.utils import ss           # because I'm real lazy\\n\",\n",
    "import NDNT.NDNT as NDN\n",
    "from NDNT.modules.layers import *\n",
    "from NDNT.networks import *\n",
    "from NTdatasets.generic import GenericDataset\n",
    "from NTdatasets.cumming.binocular import binocular_single\n",
    "from NDNT.utils.DanUtils import ss\n",
    "from NDNT.utils.DanUtils import imagesc\n",
    "from NTdatasets.cumming.monocular import MultiDataset\n",
    "from NTdatasets.hartley.hartleyDS import Hartley"
   ]
  },
  {
   "cell_type": "code",
   "execution_count": 4,
   "metadata": {},
   "outputs": [],
   "source": [
    "fn0 = 'Jocamo_220628_full_HC_ETCC_nofix_v08'\n",
    "#f = h5py.File(os.path.join(data_dir, fn0+'.mat'), 'r')\n",
    "#for k in f.keys():\n",
    "#    print(k)\n",
    "#    print(np.array(f[k]))"
   ]
  },
  {
   "cell_type": "code",
   "execution_count": 5,
   "metadata": {},
   "outputs": [
    {
     "name": "stdout",
     "output_type": "stream",
     "text": [
      "Loading Jocamo_220628_full_HC_ETCC_nofix_v08\n",
      "  Time embedding...\n",
      "Time embed: flattening stimulus from torch.Size([36720, 3, 60, 60])\n",
      "  Done.\n"
     ]
    }
   ],
   "source": [
    "expts = [fn0]\n",
    "\n",
    "data = Hartley(\n",
    "    filenames=expts,\n",
    "    datadir=data_dir,\n",
    "    num_lags=10,\n",
    "    time_embed=True,\n",
    "    include_MUs=True,\n",
    "    preload=True,\n",
    "    drift_interval=None,\n",
    "    device=None\n",
    ")"
   ]
  },
  {
   "cell_type": "code",
   "execution_count": 6,
   "metadata": {},
   "outputs": [
    {
     "name": "stdout",
     "output_type": "stream",
     "text": [
      "[[3, 60, 60]]\n",
      "[3, 60, 60, 10]\n",
      "torch.Size([36720, 108000])\n"
     ]
    }
   ],
   "source": [
    "print(data.dims_file)\n",
    "print(data.dims)\n",
    "print(data.stim.shape)"
   ]
  },
  {
   "cell_type": "code",
   "execution_count": 20,
   "metadata": {},
   "outputs": [
    {
     "data": {
      "text/plain": [
       "torch.Size([36720, 108000])"
      ]
     },
     "execution_count": 20,
     "metadata": {},
     "output_type": "execute_result"
    }
   ],
   "source": [
    "data[:]['stim'].shape"
   ]
  },
  {
   "cell_type": "code",
   "execution_count": 19,
   "metadata": {},
   "outputs": [
    {
     "data": {
      "text/plain": [
       "torch.Size([36720, 201])"
      ]
     },
     "execution_count": 19,
     "metadata": {},
     "output_type": "execute_result"
    }
   ],
   "source": [
    "(data[:]['robs'] * data[:]['dfs']).shape"
   ]
  }
 ],
 "metadata": {
  "kernelspec": {
   "display_name": "ndnt",
   "language": "python",
   "name": "python3"
  },
  "language_info": {
   "codemirror_mode": {
    "name": "ipython",
    "version": 3
   },
   "file_extension": ".py",
   "mimetype": "text/x-python",
   "name": "python",
   "nbconvert_exporter": "python",
   "pygments_lexer": "ipython3",
   "version": "3.10.11"
  },
  "orig_nbformat": 4
 },
 "nbformat": 4,
 "nbformat_minor": 2
}
