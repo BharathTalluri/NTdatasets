{
 "cells": [
  {
   "cell_type": "code",
   "execution_count": 1,
   "metadata": {},
   "outputs": [
    {
     "name": "stdout",
     "output_type": "stream",
     "text": [
      "Running on Computer: [PFC]\n",
      "Data directory: /home/elott1/data/packaged/\n",
      "Working directory: /home/elott1/code/NTdatasets/hartley/\n"
     ]
    }
   ],
   "source": [
    "import sys\n",
    "import os\n",
    "\n",
    "from copy import deepcopy\n",
    "import h5py\n",
    "\n",
    "import numpy as np\n",
    "import scipy.io as sio\n",
    "import matplotlib.pyplot as plt\n",
    "\n",
    "# Import torch\n",
    "import torch\n",
    "from torch import nn\n",
    "\n",
    "myhost = os.uname()[1]\n",
    "sys.path.insert(0, '/home/elott1/code/')\n",
    "data_dir = \"/home/elott1/data/packaged/\"\n",
    "work_dir = '/home/elott1/code/NTdatasets/hartley/'\n",
    "\n",
    "device = torch.device(\"cuda:0\" if torch.cuda.is_available() else \"cpu\")\n",
    "device0 = torch.device(\"cpu\")\n",
    "\n",
    "print(f'Running on Computer: [{myhost}]')\n",
    "print(f'Data directory: {data_dir}')\n",
    "print(f'Working directory: {work_dir}')\n",
    "\n",
    "%load_ext autoreload\n",
    "%autoreload 2"
   ]
  },
  {
   "cell_type": "code",
   "execution_count": 2,
   "metadata": {},
   "outputs": [
    {
     "name": "stdout",
     "output_type": "stream",
     "text": [
      "Invoking __init__.py for NDNT.utils\n"
     ]
    }
   ],
   "source": [
    "# NDN tools\n",
    "import NDNT.utils as utils          # some other utilities\\n\",\n",
    "from NDNT.utils import imagesc      # because I'm lazy\\n\",\n",
    "from NDNT.utils import ss           # because I'm real lazy\\n\",\n",
    "import NDNT.NDNT as NDN\n",
    "from NDNT.modules.layers import *\n",
    "from NDNT.networks import *\n",
    "from NDNT.utils.DanUtils import ss\n",
    "from NDNT.utils.DanUtils import imagesc"
   ]
  },
  {
   "cell_type": "code",
   "execution_count": 3,
   "metadata": {},
   "outputs": [],
   "source": [
    "fn0 = 'Jocamo_220628_full_HC_ETCC_nofix_v08'\n",
    "f = h5py.File(os.path.join(data_dir, fn0+'.mat'), 'r')"
   ]
  },
  {
   "cell_type": "code",
   "execution_count": 4,
   "metadata": {},
   "outputs": [
    {
     "name": "stdout",
     "output_type": "stream",
     "text": [
      "Loading data into memory...\n",
      "Stim: using laminar probe stimulus\n",
      "  Adding fixation point\n",
      "  Time embedding...\n",
      "  Done\n",
      "Meta: using laminar probe stimulus\n",
      "torch.Size([10000, 1, 1, 4])\n",
      "  Time embedding...\n",
      "\tDone\n",
      "T-range: 0 10000\n",
      "Extending final block at  9840 10000\n"
     ]
    }
   ],
   "source": [
    "from NTdatasets.hartley.hartley import HartleyDataset\n",
    "\n",
    "expts = [fn0]\n",
    "\n",
    "data = HartleyDataset(\n",
    "    filenames=expts,\n",
    "    datadir=data_dir,\n",
    "    num_lags=10,\n",
    "    time_embed=2,\n",
    "    include_MUs=False,\n",
    "    preload=True,\n",
    "    drift_interval=None,\n",
    "    device=device0,\n",
    "    eye_config=3,\n",
    "    maxT=10000\n",
    ")"
   ]
  },
  {
   "cell_type": "code",
   "execution_count": 5,
   "metadata": {},
   "outputs": [],
   "source": [
    "def categorize(arr):\n",
    "\n",
    "    arr = np.array(arr)\n",
    "    arrU = np.unique(arr)\n",
    "    arr_dict = {}\n",
    "\n",
    "    for i, a in enumerate(arrU):\n",
    "        arr_dict[a] = i\n",
    "\n",
    "    one_hot = np.zeros((arr.shape[0], len(arr_dict)))\n",
    "    for i, a in enumerate(arr):\n",
    "        one_hot[i][arr_dict[a]] = 1\n",
    "    \n",
    "    return one_hot"
   ]
  },
  {
   "cell_type": "code",
   "execution_count": 6,
   "metadata": {},
   "outputs": [],
   "source": [
    "metas = f['hartley_metas']\n",
    "freq, orient, phase, color = metas[:,0], metas[:,1], metas[:,2], metas[:,3]\n",
    "\n",
    "freq_oh = categorize(freq)\n",
    "orient_oh = categorize(orient)\n",
    "phase_oh = categorize(phase)\n",
    "color_oh = categorize(color)"
   ]
  },
  {
   "cell_type": "code",
   "execution_count": 7,
   "metadata": {},
   "outputs": [],
   "source": [
    "def time_embed(meta=None, nlags=10):\n",
    "    tmp_meta = torch.tensor(meta, dtype=torch.float32)\n",
    "    NT = meta.shape[0]\n",
    "    meta_dims = [NT, 1, 1, meta.shape[1]]\n",
    "    tmp_meta = tmp_meta.reshape(meta_dims)\n",
    "    print(tmp_meta.shape)\n",
    "    print('\\tTime embedding...')\n",
    "    tmp_meta = tmp_meta[np.arange(NT)[:,None]-np.arange(nlags), :, :, :]\n",
    "    tmp_meta = torch.permute(tmp_meta, (0,2,3,4,1))\n",
    "    return tmp_meta"
   ]
  },
  {
   "cell_type": "code",
   "execution_count": 8,
   "metadata": {},
   "outputs": [
    {
     "name": "stdout",
     "output_type": "stream",
     "text": [
      "torch.Size([36720, 1, 1, 12])\n",
      "\tTime embedding...\n",
      "torch.Size([10000, 120])\n"
     ]
    },
    {
     "data": {
      "image/png": "[encoded data removed]",
      "text/plain": [
       "<Figure size 640x480 with 1 Axes>"
      ]
     },
     "metadata": {},
     "output_type": "display_data"
    }
   ],
   "source": [
    "orient_te = time_embed(orient_oh)\n",
    "orient_te = orient_te.reshape([len(orient_oh), -1])[:10000]\n",
    "print(orient_te.shape)\n",
    "imagesc(orient_te[:100].detach().numpy())"
   ]
  },
  {
   "cell_type": "code",
   "execution_count": 9,
   "metadata": {},
   "outputs": [],
   "source": [
    "Reff = data.robs * data.dfs\n",
    "nspks = torch.sum(Reff, axis=0)\n",
    "stas0 = ((orient_te.T @ Reff).squeeze() / nspks).reshape([len(orient_oh[1]),data.num_lags,-1]).numpy()"
   ]
  },
  {
   "cell_type": "code",
   "execution_count": 10,
   "metadata": {},
   "outputs": [
    {
     "data": {
      "image/png": "[encoded data removed]",
      "text/plain": [
       "<Figure size 1600x500 with 10 Axes>"
      ]
     },
     "metadata": {},
     "output_type": "display_data"
    }
   ],
   "source": [
    "NC = 10\n",
    "nrows = int(np.ceil(NC/5))\n",
    "ss(nrows,5)\n",
    "for cc in range(NC):\n",
    "    plt.subplot(nrows,5, cc+1)\n",
    "    imagesc(stas0[:,:, cc])\n",
    "    plt.title(str(cc))\n",
    "plt.show()"
   ]
  },
  {
   "cell_type": "code",
   "execution_count": 11,
   "metadata": {},
   "outputs": [],
   "source": [
    "lbfgs_pars = utils.create_optimizer_params(\n",
    "    optimizer_type='lbfgs',\n",
    "    tolerance_change=1e-10,\n",
    "    tolerance_grad=1e-10,\n",
    "    batch_size=16000,\n",
    "    max_epochs=3,\n",
    "    max_iter = 200)"
   ]
  },
  {
   "cell_type": "code",
   "execution_count": 12,
   "metadata": {},
   "outputs": [],
   "source": [
    "XTreg = 1.0\n",
    "L1reg = 0.0001\n",
    "\n",
    "glm_layer = NDNLayer.layer_dict(\n",
    "    input_dims=data.meta_dims,\n",
    "    num_filters=1,\n",
    "    bias=False,\n",
    "    NLtype='lin',\n",
    "    initialize_center=True)\n",
    "\n",
    "glm_layer['reg_vals'] = {'d2xt': XTreg, 'l1': L1reg} \n",
    "data.add_covariate('meta_orient', orient_te)\n",
    "stim_net =  FFnetwork.ffnet_dict( xstim_n='meta_orient', layer_list=[glm_layer] )"
   ]
  },
  {
   "cell_type": "code",
   "execution_count": 13,
   "metadata": {},
   "outputs": [
    {
     "ename": "RuntimeError",
     "evalue": "mat1 and mat2 shapes cannot be multiplied (8080x120 and 40x1)",
     "output_type": "error",
     "traceback": [
      "\u001b[0;31m---------------------------------------------------------------------------\u001b[0m",
      "\u001b[0;31mRuntimeError\u001b[0m                              Traceback (most recent call last)",
      "Cell \u001b[0;32mIn[13], line 5\u001b[0m\n\u001b[1;32m      1\u001b[0m torch\u001b[39m.\u001b[39mcuda\u001b[39m.\u001b[39mempty_cache()\n\u001b[1;32m      2\u001b[0m glm_iter \u001b[39m=\u001b[39m NDN\u001b[39m.\u001b[39mNDN(  \n\u001b[1;32m      3\u001b[0m     ffnet_list \u001b[39m=\u001b[39m [stim_net],\n\u001b[1;32m      4\u001b[0m     loss_type\u001b[39m=\u001b[39m\u001b[39m'\u001b[39m\u001b[39mpoisson\u001b[39m\u001b[39m'\u001b[39m)\n\u001b[0;32m----> 5\u001b[0m glm_iter\u001b[39m.\u001b[39;49mfit(data, force_dict_training\u001b[39m=\u001b[39;49m\u001b[39mTrue\u001b[39;49;00m, \u001b[39m*\u001b[39;49m\u001b[39m*\u001b[39;49mlbfgs_pars, seed\u001b[39m=\u001b[39;49m\u001b[39m5\u001b[39;49m, version\u001b[39m=\u001b[39;49m\u001b[39m9\u001b[39;49m, verbose\u001b[39m=\u001b[39;49m\u001b[39m0\u001b[39;49m)\n\u001b[1;32m      6\u001b[0m LLi \u001b[39m=\u001b[39m glm_iter\u001b[39m.\u001b[39meval_models(data[data\u001b[39m.\u001b[39mval_inds], null_adjusted\u001b[39m=\u001b[39m\u001b[39mFalse\u001b[39;00m)[\u001b[39m0\u001b[39m]\n",
      "File \u001b[0;32m~/code/NDNT/NDNT.py:515\u001b[0m, in \u001b[0;36mNDN.fit\u001b[0;34m(self, dataset, train_inds, val_inds, speckledXV, seed, save_dir, version, optimizer, scheduler, batch_size, force_dict_training, reuse_trainer, device, **kwargs)\u001b[0m\n\u001b[1;32m    512\u001b[0m     \u001b[39mfrom\u001b[39;00m \u001b[39mNDNT\u001b[39;00m\u001b[39m.\u001b[39;00m\u001b[39mtraining\u001b[39;00m \u001b[39mimport\u001b[39;00m LBFGSTrainer\n\u001b[1;32m    513\u001b[0m     \u001b[39massert\u001b[39;00m \u001b[39misinstance\u001b[39m(trainer, LBFGSTrainer), \u001b[39m\"\u001b[39m\u001b[39mforce_dict_training will not work unless using LBFGS.\u001b[39m\u001b[39m\"\u001b[39m \n\u001b[0;32m--> 515\u001b[0m     trainer\u001b[39m.\u001b[39;49mfit(\u001b[39mself\u001b[39;49m, train_dl\u001b[39m.\u001b[39;49mdataset[:], valid_dl\u001b[39m.\u001b[39;49mdataset[:], seed\u001b[39m=\u001b[39;49mseed)\n\u001b[1;32m    516\u001b[0m \u001b[39melse\u001b[39;00m:\n\u001b[1;32m    517\u001b[0m     trainer\u001b[39m.\u001b[39mfit(\u001b[39mself\u001b[39m, train_dl, valid_dl, seed\u001b[39m=\u001b[39mseed)\n",
      "File \u001b[0;32m~/code/NDNT/training/trainer.py:419\u001b[0m, in \u001b[0;36mLBFGSTrainer.fit\u001b[0;34m(self, model, train_loader, val_loader, seed)\u001b[0m\n\u001b[1;32m    417\u001b[0m \u001b[39mif\u001b[39;00m \u001b[39misinstance\u001b[39m(train_loader, \u001b[39mdict\u001b[39m):\n\u001b[1;32m    418\u001b[0m \u001b[39m    \u001b[39m\u001b[39m''' fit entire dataset at once'''\u001b[39;00m\n\u001b[0;32m--> 419\u001b[0m     \u001b[39mself\u001b[39;49m\u001b[39m.\u001b[39;49mfit_data_dict(model, train_loader)\n\u001b[1;32m    421\u001b[0m     \u001b[39mif\u001b[39;00m val_loader \u001b[39mis\u001b[39;00m \u001b[39mNone\u001b[39;00m:\n\u001b[1;32m    422\u001b[0m         val_loader \u001b[39m=\u001b[39m train_loader\n",
      "File \u001b[0;32m~/code/NDNT/training/trainer.py:480\u001b[0m, in \u001b[0;36mLBFGSTrainer.fit_data_dict\u001b[0;34m(self, model, train_data)\u001b[0m\n\u001b[1;32m    476\u001b[0m         \u001b[39mprint\u001b[39m(\u001b[39m'\u001b[39m\u001b[39mIteration: \u001b[39m\u001b[39m{}\u001b[39;00m\u001b[39m | Loss: \u001b[39m\u001b[39m{}\u001b[39;00m\u001b[39m'\u001b[39m\u001b[39m.\u001b[39mformat(\u001b[39mself\u001b[39m\u001b[39m.\u001b[39moptimizer\u001b[39m.\u001b[39mstate_dict()[\u001b[39m'\u001b[39m\u001b[39mstate\u001b[39m\u001b[39m'\u001b[39m][\u001b[39m0\u001b[39m][\u001b[39m'\u001b[39m\u001b[39mn_iter\u001b[39m\u001b[39m'\u001b[39m], loss\u001b[39m.\u001b[39mitem()))\n\u001b[1;32m    478\u001b[0m     \u001b[39mreturn\u001b[39;00m loss\n\u001b[0;32m--> 480\u001b[0m loss \u001b[39m=\u001b[39m \u001b[39mself\u001b[39;49m\u001b[39m.\u001b[39;49moptimizer\u001b[39m.\u001b[39;49mstep(closure)\n\u001b[1;32m    481\u001b[0m \u001b[39mself\u001b[39m\u001b[39m.\u001b[39moptimizer\u001b[39m.\u001b[39mzero_grad(set_to_none\u001b[39m=\u001b[39m\u001b[39mself\u001b[39m\u001b[39m.\u001b[39mset_to_none)\n\u001b[1;32m    482\u001b[0m \u001b[39mif\u001b[39;00m \u001b[39mself\u001b[39m\u001b[39m.\u001b[39muse_gpu:\n",
      "File \u001b[0;32m~/anaconda3/envs/ndnt/lib/python3.10/site-packages/torch/optim/optimizer.py:113\u001b[0m, in \u001b[0;36mOptimizer._hook_for_profile.<locals>.profile_hook_step.<locals>.wrapper\u001b[0;34m(*args, **kwargs)\u001b[0m\n\u001b[1;32m    111\u001b[0m profile_name \u001b[39m=\u001b[39m \u001b[39m\"\u001b[39m\u001b[39mOptimizer.step#\u001b[39m\u001b[39m{}\u001b[39;00m\u001b[39m.step\u001b[39m\u001b[39m\"\u001b[39m\u001b[39m.\u001b[39mformat(obj\u001b[39m.\u001b[39m\u001b[39m__class__\u001b[39m\u001b[39m.\u001b[39m\u001b[39m__name__\u001b[39m)\n\u001b[1;32m    112\u001b[0m \u001b[39mwith\u001b[39;00m torch\u001b[39m.\u001b[39mautograd\u001b[39m.\u001b[39mprofiler\u001b[39m.\u001b[39mrecord_function(profile_name):\n\u001b[0;32m--> 113\u001b[0m     \u001b[39mreturn\u001b[39;00m func(\u001b[39m*\u001b[39;49margs, \u001b[39m*\u001b[39;49m\u001b[39m*\u001b[39;49mkwargs)\n",
      "File \u001b[0;32m~/anaconda3/envs/ndnt/lib/python3.10/site-packages/torch/autograd/grad_mode.py:27\u001b[0m, in \u001b[0;36m_DecoratorContextManager.__call__.<locals>.decorate_context\u001b[0;34m(*args, **kwargs)\u001b[0m\n\u001b[1;32m     24\u001b[0m \u001b[39m@functools\u001b[39m\u001b[39m.\u001b[39mwraps(func)\n\u001b[1;32m     25\u001b[0m \u001b[39mdef\u001b[39;00m \u001b[39mdecorate_context\u001b[39m(\u001b[39m*\u001b[39margs, \u001b[39m*\u001b[39m\u001b[39m*\u001b[39mkwargs):\n\u001b[1;32m     26\u001b[0m     \u001b[39mwith\u001b[39;00m \u001b[39mself\u001b[39m\u001b[39m.\u001b[39mclone():\n\u001b[0;32m---> 27\u001b[0m         \u001b[39mreturn\u001b[39;00m func(\u001b[39m*\u001b[39;49margs, \u001b[39m*\u001b[39;49m\u001b[39m*\u001b[39;49mkwargs)\n",
      "File \u001b[0;32m~/anaconda3/envs/ndnt/lib/python3.10/site-packages/torch/optim/lbfgs.py:311\u001b[0m, in \u001b[0;36mLBFGS.step\u001b[0;34m(self, closure)\u001b[0m\n\u001b[1;32m    308\u001b[0m state\u001b[39m.\u001b[39msetdefault(\u001b[39m'\u001b[39m\u001b[39mn_iter\u001b[39m\u001b[39m'\u001b[39m, \u001b[39m0\u001b[39m)\n\u001b[1;32m    310\u001b[0m \u001b[39m# evaluate initial f(x) and df/dx\u001b[39;00m\n\u001b[0;32m--> 311\u001b[0m orig_loss \u001b[39m=\u001b[39m closure()\n\u001b[1;32m    312\u001b[0m loss \u001b[39m=\u001b[39m \u001b[39mfloat\u001b[39m(orig_loss)\n\u001b[1;32m    313\u001b[0m current_evals \u001b[39m=\u001b[39m \u001b[39m1\u001b[39m\n",
      "File \u001b[0;32m~/anaconda3/envs/ndnt/lib/python3.10/site-packages/torch/autograd/grad_mode.py:27\u001b[0m, in \u001b[0;36m_DecoratorContextManager.__call__.<locals>.decorate_context\u001b[0;34m(*args, **kwargs)\u001b[0m\n\u001b[1;32m     24\u001b[0m \u001b[39m@functools\u001b[39m\u001b[39m.\u001b[39mwraps(func)\n\u001b[1;32m     25\u001b[0m \u001b[39mdef\u001b[39;00m \u001b[39mdecorate_context\u001b[39m(\u001b[39m*\u001b[39margs, \u001b[39m*\u001b[39m\u001b[39m*\u001b[39mkwargs):\n\u001b[1;32m     26\u001b[0m     \u001b[39mwith\u001b[39;00m \u001b[39mself\u001b[39m\u001b[39m.\u001b[39mclone():\n\u001b[0;32m---> 27\u001b[0m         \u001b[39mreturn\u001b[39;00m func(\u001b[39m*\u001b[39;49margs, \u001b[39m*\u001b[39;49m\u001b[39m*\u001b[39;49mkwargs)\n",
      "File \u001b[0;32m~/code/NDNT/training/trainer.py:468\u001b[0m, in \u001b[0;36mLBFGSTrainer.fit_data_dict.<locals>.closure\u001b[0;34m()\u001b[0m\n\u001b[1;32m    465\u001b[0m \u001b[39mself\u001b[39m\u001b[39m.\u001b[39moptimizer\u001b[39m.\u001b[39mzero_grad(set_to_none\u001b[39m=\u001b[39m\u001b[39mself\u001b[39m\u001b[39m.\u001b[39mset_to_none)\n\u001b[1;32m    466\u001b[0m loss \u001b[39m=\u001b[39m torch\u001b[39m.\u001b[39mzeros(\u001b[39m1\u001b[39m, device\u001b[39m=\u001b[39m\u001b[39mself\u001b[39m\u001b[39m.\u001b[39mdevice)\n\u001b[0;32m--> 468\u001b[0m out \u001b[39m=\u001b[39m model\u001b[39m.\u001b[39;49mtraining_step(train_data)\n\u001b[1;32m    469\u001b[0m loss \u001b[39m=\u001b[39m out[\u001b[39m'\u001b[39m\u001b[39mloss\u001b[39m\u001b[39m'\u001b[39m]\n\u001b[1;32m    470\u001b[0m \u001b[39mif\u001b[39;00m np\u001b[39m.\u001b[39misnan(loss\u001b[39m.\u001b[39mitem()):\n",
      "File \u001b[0;32m~/code/NDNT/NDNT.py:183\u001b[0m, in \u001b[0;36mNDN.training_step\u001b[0;34m(self, batch, batch_idx)\u001b[0m\n\u001b[1;32m    180\u001b[0m \u001b[39melse\u001b[39;00m:\n\u001b[1;32m    181\u001b[0m     dfs \u001b[39m=\u001b[39m batch[\u001b[39m'\u001b[39m\u001b[39mdfs\u001b[39m\u001b[39m'\u001b[39m]\n\u001b[0;32m--> 183\u001b[0m y_hat \u001b[39m=\u001b[39m \u001b[39mself\u001b[39;49m(batch)\n\u001b[1;32m    185\u001b[0m loss \u001b[39m=\u001b[39m \u001b[39mself\u001b[39m\u001b[39m.\u001b[39mloss(y_hat, y, dfs)\n\u001b[1;32m    187\u001b[0m regularizers \u001b[39m=\u001b[39m \u001b[39mself\u001b[39m\u001b[39m.\u001b[39mcompute_reg_loss()\n",
      "File \u001b[0;32m~/anaconda3/envs/ndnt/lib/python3.10/site-packages/torch/nn/modules/module.py:1130\u001b[0m, in \u001b[0;36mModule._call_impl\u001b[0;34m(self, *input, **kwargs)\u001b[0m\n\u001b[1;32m   1126\u001b[0m \u001b[39m# If we don't have any hooks, we want to skip the rest of the logic in\u001b[39;00m\n\u001b[1;32m   1127\u001b[0m \u001b[39m# this function, and just call forward.\u001b[39;00m\n\u001b[1;32m   1128\u001b[0m \u001b[39mif\u001b[39;00m \u001b[39mnot\u001b[39;00m (\u001b[39mself\u001b[39m\u001b[39m.\u001b[39m_backward_hooks \u001b[39mor\u001b[39;00m \u001b[39mself\u001b[39m\u001b[39m.\u001b[39m_forward_hooks \u001b[39mor\u001b[39;00m \u001b[39mself\u001b[39m\u001b[39m.\u001b[39m_forward_pre_hooks \u001b[39mor\u001b[39;00m _global_backward_hooks\n\u001b[1;32m   1129\u001b[0m         \u001b[39mor\u001b[39;00m _global_forward_hooks \u001b[39mor\u001b[39;00m _global_forward_pre_hooks):\n\u001b[0;32m-> 1130\u001b[0m     \u001b[39mreturn\u001b[39;00m forward_call(\u001b[39m*\u001b[39;49m\u001b[39minput\u001b[39;49m, \u001b[39m*\u001b[39;49m\u001b[39m*\u001b[39;49mkwargs)\n\u001b[1;32m   1131\u001b[0m \u001b[39m# Do not call functions when jit is used\u001b[39;00m\n\u001b[1;32m   1132\u001b[0m full_backward_hooks, non_full_backward_hooks \u001b[39m=\u001b[39m [], []\n",
      "File \u001b[0;32m~/code/NDNT/NDNT.py:169\u001b[0m, in \u001b[0;36mNDN.forward\u001b[0;34m(self, Xs)\u001b[0m\n\u001b[1;32m    164\u001b[0m \u001b[39mdef\u001b[39;00m \u001b[39mforward\u001b[39m(\u001b[39mself\u001b[39m, Xs):\n\u001b[1;32m    165\u001b[0m \u001b[39m    \u001b[39m\u001b[39m\"\"\"This applies the forwards of each network in sequential order.\u001b[39;00m\n\u001b[1;32m    166\u001b[0m \u001b[39m    The tricky thing is concatenating multiple-input dimensions together correctly.\u001b[39;00m\n\u001b[1;32m    167\u001b[0m \u001b[39m    Note that the external inputs is actually in principle a list of inputs\"\"\"\u001b[39;00m\n\u001b[0;32m--> 169\u001b[0m     net_ins, net_outs \u001b[39m=\u001b[39m \u001b[39mself\u001b[39;49m\u001b[39m.\u001b[39;49mcompute_network_outputs( Xs )\n\u001b[1;32m    170\u001b[0m     \u001b[39m# For now assume its just one output, given by the first value of self.ffnet_out\u001b[39;00m\n\u001b[1;32m    171\u001b[0m     \u001b[39mreturn\u001b[39;00m net_outs[\u001b[39mself\u001b[39m\u001b[39m.\u001b[39mffnet_out[\u001b[39m0\u001b[39m]]\n",
      "File \u001b[0;32m~/code/NDNT/NDNT.py:151\u001b[0m, in \u001b[0;36mNDN.compute_network_outputs\u001b[0;34m(self, Xs)\u001b[0m\n\u001b[1;32m    148\u001b[0m \u001b[39mif\u001b[39;00m \u001b[39mself\u001b[39m\u001b[39m.\u001b[39mnetworks[ii]\u001b[39m.\u001b[39mffnets_in \u001b[39mis\u001b[39;00m \u001b[39mNone\u001b[39;00m:\n\u001b[1;32m    149\u001b[0m     \u001b[39m# then getting external input\u001b[39;00m\n\u001b[1;32m    150\u001b[0m     net_ins\u001b[39m.\u001b[39mappend( [Xs[\u001b[39mself\u001b[39m\u001b[39m.\u001b[39mnetworks[ii]\u001b[39m.\u001b[39mxstim_n]] )\n\u001b[0;32m--> 151\u001b[0m     net_outs\u001b[39m.\u001b[39mappend( \u001b[39mself\u001b[39;49m\u001b[39m.\u001b[39;49mnetworks[ii]( net_ins[\u001b[39m-\u001b[39;49m\u001b[39m1\u001b[39;49m] ) )\n\u001b[1;32m    152\u001b[0m \u001b[39melse\u001b[39;00m:\n\u001b[1;32m    153\u001b[0m     in_nets \u001b[39m=\u001b[39m \u001b[39mself\u001b[39m\u001b[39m.\u001b[39mnetworks[ii]\u001b[39m.\u001b[39mffnets_in\n",
      "File \u001b[0;32m~/anaconda3/envs/ndnt/lib/python3.10/site-packages/torch/nn/modules/module.py:1130\u001b[0m, in \u001b[0;36mModule._call_impl\u001b[0;34m(self, *input, **kwargs)\u001b[0m\n\u001b[1;32m   1126\u001b[0m \u001b[39m# If we don't have any hooks, we want to skip the rest of the logic in\u001b[39;00m\n\u001b[1;32m   1127\u001b[0m \u001b[39m# this function, and just call forward.\u001b[39;00m\n\u001b[1;32m   1128\u001b[0m \u001b[39mif\u001b[39;00m \u001b[39mnot\u001b[39;00m (\u001b[39mself\u001b[39m\u001b[39m.\u001b[39m_backward_hooks \u001b[39mor\u001b[39;00m \u001b[39mself\u001b[39m\u001b[39m.\u001b[39m_forward_hooks \u001b[39mor\u001b[39;00m \u001b[39mself\u001b[39m\u001b[39m.\u001b[39m_forward_pre_hooks \u001b[39mor\u001b[39;00m _global_backward_hooks\n\u001b[1;32m   1129\u001b[0m         \u001b[39mor\u001b[39;00m _global_forward_hooks \u001b[39mor\u001b[39;00m _global_forward_pre_hooks):\n\u001b[0;32m-> 1130\u001b[0m     \u001b[39mreturn\u001b[39;00m forward_call(\u001b[39m*\u001b[39;49m\u001b[39minput\u001b[39;49m, \u001b[39m*\u001b[39;49m\u001b[39m*\u001b[39;49mkwargs)\n\u001b[1;32m   1131\u001b[0m \u001b[39m# Do not call functions when jit is used\u001b[39;00m\n\u001b[1;32m   1132\u001b[0m full_backward_hooks, non_full_backward_hooks \u001b[39m=\u001b[39m [], []\n",
      "File \u001b[0;32m~/code/NDNT/networks.py:193\u001b[0m, in \u001b[0;36mFFnetwork.forward\u001b[0;34m(self, inputs)\u001b[0m\n\u001b[1;32m    190\u001b[0m x \u001b[39m=\u001b[39m \u001b[39mself\u001b[39m\u001b[39m.\u001b[39mpreprocess_input(inputs)\n\u001b[1;32m    192\u001b[0m \u001b[39mfor\u001b[39;00m layer \u001b[39min\u001b[39;00m \u001b[39mself\u001b[39m\u001b[39m.\u001b[39mlayers:\n\u001b[0;32m--> 193\u001b[0m     x \u001b[39m=\u001b[39m layer(x)\n\u001b[1;32m    194\u001b[0m     \u001b[39m#out.append(x)\u001b[39;00m\n\u001b[1;32m    196\u001b[0m \u001b[39mreturn\u001b[39;00m x\n",
      "File \u001b[0;32m~/anaconda3/envs/ndnt/lib/python3.10/site-packages/torch/nn/modules/module.py:1130\u001b[0m, in \u001b[0;36mModule._call_impl\u001b[0;34m(self, *input, **kwargs)\u001b[0m\n\u001b[1;32m   1126\u001b[0m \u001b[39m# If we don't have any hooks, we want to skip the rest of the logic in\u001b[39;00m\n\u001b[1;32m   1127\u001b[0m \u001b[39m# this function, and just call forward.\u001b[39;00m\n\u001b[1;32m   1128\u001b[0m \u001b[39mif\u001b[39;00m \u001b[39mnot\u001b[39;00m (\u001b[39mself\u001b[39m\u001b[39m.\u001b[39m_backward_hooks \u001b[39mor\u001b[39;00m \u001b[39mself\u001b[39m\u001b[39m.\u001b[39m_forward_hooks \u001b[39mor\u001b[39;00m \u001b[39mself\u001b[39m\u001b[39m.\u001b[39m_forward_pre_hooks \u001b[39mor\u001b[39;00m _global_backward_hooks\n\u001b[1;32m   1129\u001b[0m         \u001b[39mor\u001b[39;00m _global_forward_hooks \u001b[39mor\u001b[39;00m _global_forward_pre_hooks):\n\u001b[0;32m-> 1130\u001b[0m     \u001b[39mreturn\u001b[39;00m forward_call(\u001b[39m*\u001b[39;49m\u001b[39minput\u001b[39;49m, \u001b[39m*\u001b[39;49m\u001b[39m*\u001b[39;49mkwargs)\n\u001b[1;32m   1131\u001b[0m \u001b[39m# Do not call functions when jit is used\u001b[39;00m\n\u001b[1;32m   1132\u001b[0m full_backward_hooks, non_full_backward_hooks \u001b[39m=\u001b[39m [], []\n",
      "File \u001b[0;32m~/code/NDNT/modules/layers/ndnlayer.py:264\u001b[0m, in \u001b[0;36mNDNLayer.forward\u001b[0;34m(self, x)\u001b[0m\n\u001b[1;32m    261\u001b[0m w \u001b[39m=\u001b[39m \u001b[39mself\u001b[39m\u001b[39m.\u001b[39mpreprocess_weights()\n\u001b[1;32m    263\u001b[0m \u001b[39m# Simple linear processing and bias\u001b[39;00m\n\u001b[0;32m--> 264\u001b[0m x \u001b[39m=\u001b[39m torch\u001b[39m.\u001b[39;49mmatmul(x, w)\n\u001b[1;32m    265\u001b[0m \u001b[39mif\u001b[39;00m \u001b[39mself\u001b[39m\u001b[39m.\u001b[39mnorm_type \u001b[39m==\u001b[39m \u001b[39m2\u001b[39m:\n\u001b[1;32m    266\u001b[0m     x \u001b[39m=\u001b[39m x \u001b[39m/\u001b[39m \u001b[39mself\u001b[39m\u001b[39m.\u001b[39mweight_scale\n",
      "\u001b[0;31mRuntimeError\u001b[0m: mat1 and mat2 shapes cannot be multiplied (8080x120 and 40x1)"
     ]
    }
   ],
   "source": [
    "torch.cuda.empty_cache()\n",
    "glm_iter = NDN.NDN(  \n",
    "    ffnet_list = [stim_net],\n",
    "    loss_type='poisson')\n",
    "glm_iter.fit(data, force_dict_training=True, **lbfgs_pars, seed=5, version=9, verbose=0)\n",
    "LLi = glm_iter.eval_models(data[data.val_inds], null_adjusted=False)[0]"
   ]
  },
  {
   "cell_type": "code",
   "execution_count": null,
   "metadata": {},
   "outputs": [
    {
     "name": "stdout",
     "output_type": "stream",
     "text": [
      "nan\n"
     ]
    }
   ],
   "source": [
    "print(LLi)"
   ]
  },
  {
   "cell_type": "code",
   "execution_count": null,
   "metadata": {},
   "outputs": [],
   "source": []
  }
 ],
 "metadata": {
  "kernelspec": {
   "display_name": "ndnt",
   "language": "python",
   "name": "python3"
  },
  "language_info": {
   "codemirror_mode": {
    "name": "ipython",
    "version": 3
   },
   "file_extension": ".py",
   "mimetype": "text/x-python",
   "name": "python",
   "nbconvert_exporter": "python",
   "pygments_lexer": "ipython3",
   "version": "3.10.11"
  },
  "orig_nbformat": 4
 },
 "nbformat": 4,
 "nbformat_minor": 2
}
